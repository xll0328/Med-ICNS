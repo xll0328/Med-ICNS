{
 "cells": [
  {
   "cell_type": "code",
   "execution_count": 1,
   "id": "indonesian-daniel",
   "metadata": {},
   "outputs": [],
   "source": [
    "import os\n",
    "import glob\n",
    "import numpy as np\n",
    "import pandas as pd"
   ]
  },
  {
   "cell_type": "code",
   "execution_count": 2,
   "id": "centered-president",
   "metadata": {},
   "outputs": [
    {
     "data": {
      "text/plain": [
       "['./results\\\\CUB\\\\explainer\\\\results_aware_cub.csv',\n",
       " './results\\\\mimic-ii\\\\explainer\\\\results_aware_mimic.csv',\n",
       " './results\\\\MNIST\\\\explainer\\\\results_aware_mnist.csv',\n",
       " './results\\\\vdem\\\\explainer\\\\results_aware_vdem.csv']"
      ]
     },
     "execution_count": 2,
     "metadata": {},
     "output_type": "execute_result"
    }
   ],
   "source": [
    "files = glob.glob('./results/**/results**.csv', recursive = True)\n",
    "files"
   ]
  },
  {
   "cell_type": "code",
   "execution_count": 3,
   "id": "derived-mining",
   "metadata": {},
   "outputs": [],
   "source": [
    "file = files[0]"
   ]
  },
  {
   "cell_type": "code",
   "execution_count": 4,
   "id": "needed-colleague",
   "metadata": {},
   "outputs": [
    {
     "data": {
      "text/plain": [
       "explanation_accuracy         0.952448\n",
       "explanation_fidelity         0.998563\n",
       "explanation_complexity       3.736000\n",
       "model_accuracy               0.929492\n",
       "extraction_time            171.867153\n",
       "extracted_concepts          14.836000\n",
       "explanation_consistency      0.355165\n",
       "dtype: float64"
      ]
     },
     "execution_count": 4,
     "metadata": {},
     "output_type": "execute_result"
    }
   ],
   "source": [
    "df = pd.read_csv(file, index_col=0)\n",
    "dfm = df.mean()\n",
    "dfs = df.sem()\n",
    "dfm"
   ]
  },
  {
   "cell_type": "code",
   "execution_count": 5,
   "id": "imposed-cornwall",
   "metadata": {},
   "outputs": [
    {
     "name": "stdout",
     "output_type": "stream",
     "text": [
      "Dataset: ./results\\CUB\\explainer\\results_aware_cub.csv\n",
      "Model accuracy\n",
      "$92.95 \\pm 0.20$\n",
      "Explanation accuracy\n",
      "$95.24 \\pm 0.05$\n",
      "Complexity\n",
      "$3.74 \\pm 0.03$\n",
      "Fidelity\n",
      "$99.86 \\pm 0.01$\n",
      "Consistency\n",
      "$35.52$\n",
      "Time\n",
      "$171.87 \\pm 1.95$\n",
      "\n",
      "Dataset: ./results\\mimic-ii\\explainer\\results_aware_mimic.csv\n",
      "Model accuracy\n",
      "$79.05 \\pm 1.35$\n",
      "Explanation accuracy\n",
      "$66.93 \\pm 2.14$\n",
      "Complexity\n",
      "$3.50 \\pm 0.88$\n",
      "Fidelity\n",
      "$79.11 \\pm 2.02$\n",
      "Consistency\n",
      "$28.75$\n",
      "Time\n",
      "$23.08 \\pm 3.53$\n",
      "\n",
      "Dataset: ./results\\MNIST\\explainer\\results_aware_mnist.csv\n",
      "Model accuracy\n",
      "$99.81 \\pm 0.02$\n",
      "Explanation accuracy\n",
      "$99.62 \\pm 0.00$\n",
      "Complexity\n",
      "$50.00 \\pm 0.00$\n",
      "Fidelity\n",
      "$99.63 \\pm 0.00$\n",
      "Consistency\n",
      "$100.00$\n",
      "Time\n",
      "$138.32 \\pm 0.63$\n",
      "\n",
      "Dataset: ./results\\vdem\\explainer\\results_aware_vdem.csv\n",
      "Model accuracy\n",
      "$94.51 \\pm 0.48$\n",
      "Explanation accuracy\n",
      "$89.88 \\pm 0.50$\n",
      "Complexity\n",
      "$3.10 \\pm 0.51$\n",
      "Fidelity\n",
      "$90.90 \\pm 1.23$\n",
      "Consistency\n",
      "$46.25$\n",
      "Time\n",
      "$59.90 \\pm 31.18$\n",
      "\n"
     ]
    }
   ],
   "source": [
    "for file in files:\n",
    "    df = pd.read_csv(file, index_col=0)\n",
    "    dfm = df.mean()\n",
    "    dfs = df.sem()\n",
    "    print(f'Dataset: {file}')\n",
    "    print(f'Model accuracy')\n",
    "    print(f\"${100*dfm['model_accuracy']:.2f} \\pm {100*dfs['model_accuracy']:.2f}$\")\n",
    "    print(f'Explanation accuracy')\n",
    "    print(f\"${100*dfm['explanation_accuracy']:.2f} \\pm {100*dfs['explanation_accuracy']:.2f}$\")\n",
    "    print(f'Complexity')\n",
    "    print(f\"${dfm['explanation_complexity']:.2f} \\pm {dfs['explanation_complexity']:.2f}$\")\n",
    "    print(f'Fidelity')\n",
    "    print(f\"${100*dfm['explanation_fidelity']:.2f} \\pm {100*dfs['explanation_fidelity']:.2f}$\")\n",
    "    print(f'Consistency')\n",
    "    print(f\"${100*dfm['explanation_consistency']:.2f}$\")\n",
    "    print(f'Time')\n",
    "    print(f\"${dfm['extraction_time']:.2f} \\pm {dfs['extraction_time']:.2f}$\")\n",
    "    print()"
   ]
  }
 ],
 "metadata": {
  "kernelspec": {
   "display_name": "Python 3",
   "language": "python",
   "name": "python3"
  },
  "language_info": {
   "codemirror_mode": {
    "name": "ipython",
    "version": 3
   },
   "file_extension": ".py",
   "mimetype": "text/x-python",
   "name": "python",
   "nbconvert_exporter": "python",
   "pygments_lexer": "ipython3",
   "version": "3.8.5"
  }
 },
 "nbformat": 4,
 "nbformat_minor": 5
}