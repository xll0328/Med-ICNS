{
 "cells": [
  {
   "cell_type": "code",
   "execution_count": 32,
   "metadata": {},
   "outputs": [
    {
     "name": "stdout",
     "output_type": "stream",
     "text": [
      "papul Malignant Ratio: 57.14%\n"
     ]
    }
   ],
   "source": [
    "import pandas as pd\n",
    "\n",
    "# 读取CSV文件\n",
    "data = pd.read_csv('D:\\project\\XAI4Medical\\pytorch_explain\\DDI\\ddi_metadata_concept.csv')\n",
    "name='Translucent'\n",
    "# 计算Vesicl中恶性的比例\n",
    "malignant_vesicle_count = ((data[name] == 1) & (data['malignant'] == True)).sum()\n",
    "\n",
    "# 计算 papul 列中值为 'True' 的记录总数\n",
    "total_vesicle_count = (data[name] == 1).sum()\n",
    "\n",
    "# 计算 papul 是恶性的比例\n",
    "vesicle_malignant_ratio = malignant_vesicle_count / total_vesicle_count\n",
    "print(f'papul Malignant Ratio: {vesicle_malignant_ratio:.2%}')"
   ]
  },
  {
   "cell_type": "code",
   "execution_count": null,
   "metadata": {},
   "outputs": [],
   "source": []
  }
 ],
 "metadata": {
  "kernelspec": {
   "display_name": "dcr",
   "language": "python",
   "name": "python3"
  },
  "language_info": {
   "codemirror_mode": {
    "name": "ipython",
    "version": 3
   },
   "file_extension": ".py",
   "mimetype": "text/x-python",
   "name": "python",
   "nbconvert_exporter": "python",
   "pygments_lexer": "ipython3",
   "version": "3.8.0"
  }
 },
 "nbformat": 4,
 "nbformat_minor": 2
}
